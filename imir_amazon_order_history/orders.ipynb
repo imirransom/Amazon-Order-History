{
 "cells": [
  {
   "cell_type": "markdown",
   "id": "b69d1468-f21d-4757-add1-f05592d76853",
   "metadata": {},
   "source": [
    "### Import all mondules that will be used"
   ]
  },
  {
   "cell_type": "code",
   "execution_count": 4,
   "id": "d87ef658-daeb-4b8b-bc2e-4c88840a1b0c",
   "metadata": {
    "tags": []
   },
   "outputs": [],
   "source": [
    "from tabulate import tabulate\n",
    "import pandas as pd\n",
    "import matplotlib.pyplot as plt"
   ]
  },
  {
   "cell_type": "code",
   "execution_count": 5,
   "id": "eb5db27c-803a-43b3-85f4-e2287ccb442d",
   "metadata": {
    "tags": []
   },
   "outputs": [],
   "source": [
    "def tab(frame, format):\n",
    "    return tabulate(frame, headers='keys', tablefmt=format)"
   ]
  },
  {
   "cell_type": "code",
   "execution_count": 6,
   "id": "7935f754-4e5c-4c25-8109-f8e25e5f4446",
   "metadata": {
    "tags": []
   },
   "outputs": [],
   "source": [
    "# Making the csv file readable\n",
    "df = pd.read_csv('orderHistory.csv')"
   ]
  },
  {
   "cell_type": "code",
   "execution_count": 7,
   "id": "0f87e410-e5c8-4284-b2bb-d424bad6a22e",
   "metadata": {
    "tags": []
   },
   "outputs": [
    {
     "name": "stdout",
     "output_type": "stream",
     "text": [
      "<class 'pandas.core.frame.DataFrame'>\n",
      "RangeIndex: 687 entries, 0 to 686\n",
      "Data columns (total 27 columns):\n",
      " #   Column                          Non-Null Count  Dtype  \n",
      "---  ------                          --------------  -----  \n",
      " 0   Website                         687 non-null    object \n",
      " 1   Order ID                        687 non-null    object \n",
      " 2   Order Date                      687 non-null    object \n",
      " 3   Purchase Order Number           687 non-null    object \n",
      " 4   Currency                        687 non-null    object \n",
      " 5   Unit Price                      687 non-null    float64\n",
      " 6   Unit Price Tax                  687 non-null    float64\n",
      " 7   Shipping Charge                 687 non-null    float64\n",
      " 8   Total Discounts                 687 non-null    object \n",
      " 9   Total Owed                      687 non-null    float64\n",
      " 10  Shipment Item Subtotal          687 non-null    object \n",
      " 11  Shipment Item Subtotal Tax      687 non-null    object \n",
      " 12  ASIN                            687 non-null    object \n",
      " 13  Product Condition               687 non-null    object \n",
      " 14  Quantity                        687 non-null    int64  \n",
      " 15  Payment Instrument Type         687 non-null    object \n",
      " 16  Order Status                    687 non-null    object \n",
      " 17  Shipment Status                 687 non-null    object \n",
      " 18  Ship Date                       687 non-null    object \n",
      " 19  Shipping Option                 687 non-null    object \n",
      " 20  Shipping Address                687 non-null    object \n",
      " 21  Billing Address                 687 non-null    object \n",
      " 22  Carrier Name & Tracking Number  687 non-null    object \n",
      " 23  Product Name                    687 non-null    object \n",
      " 24  Gift Message                    687 non-null    object \n",
      " 25  Gift Sender Name                687 non-null    object \n",
      " 26  Gift Recipient Contact Details  687 non-null    object \n",
      "dtypes: float64(4), int64(1), object(22)\n",
      "memory usage: 145.0+ KB\n"
     ]
    }
   ],
   "source": [
    "#Filling missing calues with 0\n",
    "df.info()"
   ]
  },
  {
   "cell_type": "code",
   "execution_count": 8,
   "id": "30fb9fe0-23d8-46dd-83b2-573a18d6d635",
   "metadata": {
    "tags": []
   },
   "outputs": [],
   "source": [
    "#Filling missing calues with 0\n",
    "df = df.fillna(0)"
   ]
  },
  {
   "cell_type": "code",
   "execution_count": 9,
   "id": "1bb5c4b3-ed60-4af8-8309-0e9bbfe5ee45",
   "metadata": {},
   "outputs": [],
   "source": [
    "# Removing non-numeric characters and converting them to floats\n",
    "df[\"Shipment Item Subtotal\"] = pd.to_numeric(df[\"Shipment Item Subtotal\"].str.replace('[^\\d.]', '', regex=True), errors='coerce')"
   ]
  },
  {
   "cell_type": "code",
   "execution_count": 17,
   "id": "f0a2b158-aab4-4d68-a041-6338f2089585",
   "metadata": {
    "tags": []
   },
   "outputs": [
    {
     "data": {
      "text/plain": [
       "array(['Imir Ransom 1141 Creekside Dr Wilmington DE 19804 United States',\n",
       "       'Stephanie Pullins 3007 N STILLMAN ST PHILADELPHIA PA 19132-1306 United States',\n",
       "       'Ahmad Benefield 3007 N STILLMAN ST PHILADELPHIA PA 19132-1306 United States',\n",
       "       'Teyonna Pullins 3007 N STILLMAN ST PHILADELPHIA PA 19132-1306 United States',\n",
       "       'Imir 1140 CREEKSIDE DR APT 1 WILMINGTON DE 19804-3931 United States',\n",
       "       'Imir Ransom 2005 CERVANTES CT NEWARK DE 19702-4401 United States',\n",
       "       'Stephanie Pullins 2626 N BANCROFT ST PHILADELPHIA PA 19132-3933 United States',\n",
       "       'Imir 2005 CERVANTES CT NEWARK DE 19702-4401 United States',\n",
       "       'Sadie Graham 203 ATLANTIC AVE WILMINGTON DE 19804-1432 United States',\n",
       "       'Jeffrey Mullen 203 ATLANTIC AVE WILMINGTON DE 19804-1432 United States',\n",
       "       'Imir 33 WENARK DR APT 12 NEWARK DE 19713-1442 United States',\n",
       "       'Imir Ransom 83 PIKE CREEK RD APT 1B NEWARK DE 19711-6819 United States',\n",
       "       'Imir Ransom 2 Indepence Hall Newark Delaware 19711 United States'],\n",
       "      dtype=object)"
      ]
     },
     "execution_count": 17,
     "metadata": {},
     "output_type": "execute_result"
    }
   ],
   "source": [
    "# getting all the addresses used by using the unique method so there are no repeats\n",
    "addresses = df[\"Shipping Address\"].unique()\n",
    "addresses"
   ]
  },
  {
   "cell_type": "code",
   "execution_count": 18,
   "id": "643a1da6-6430-4119-8188-d936b726609d",
   "metadata": {},
   "outputs": [
    {
     "data": {
      "text/plain": [
       "'Stephanie Pullins 3007 N STILLMAN ST PHILADELPHIA PA 19132-1306 United States'"
      ]
     },
     "execution_count": 18,
     "metadata": {},
     "output_type": "execute_result"
    }
   ],
   "source": [
    "steph1 = addresses[1]\n",
    "steph2 = addresses[6] \n",
    "steph1"
   ]
  },
  {
   "cell_type": "code",
   "execution_count": 19,
   "id": "96a2e77e-d213-4f5b-b256-e669a88b6358",
   "metadata": {
    "tags": []
   },
   "outputs": [
    {
     "data": {
      "text/plain": [
       "'Stephanie Pullins 2626 N BANCROFT ST PHILADELPHIA PA 19132-3933 United States'"
      ]
     },
     "execution_count": 19,
     "metadata": {},
     "output_type": "execute_result"
    }
   ],
   "source": [
    "steph2"
   ]
  },
  {
   "cell_type": "code",
   "execution_count": 27,
   "id": "ae0e6034-e25d-4fcc-810f-97936455cae5",
   "metadata": {
    "tags": []
   },
   "outputs": [
    {
     "data": {
      "text/html": [
       "<div>\n",
       "<style scoped>\n",
       "    .dataframe tbody tr th:only-of-type {\n",
       "        vertical-align: middle;\n",
       "    }\n",
       "\n",
       "    .dataframe tbody tr th {\n",
       "        vertical-align: top;\n",
       "    }\n",
       "\n",
       "    .dataframe thead th {\n",
       "        text-align: right;\n",
       "    }\n",
       "</style>\n",
       "<table border=\"1\" class=\"dataframe\">\n",
       "  <thead>\n",
       "    <tr style=\"text-align: right;\">\n",
       "      <th></th>\n",
       "      <th>Shipping Address</th>\n",
       "      <th>Shipment Item Subtotal</th>\n",
       "    </tr>\n",
       "  </thead>\n",
       "  <tbody>\n",
       "    <tr>\n",
       "      <th>0</th>\n",
       "      <td>Ahmad Benefield 3007 N STILLMAN ST PHILADELPHI...</td>\n",
       "      <td>65.64</td>\n",
       "    </tr>\n",
       "    <tr>\n",
       "      <th>1</th>\n",
       "      <td>Imir 1140 CREEKSIDE DR APT 1 WILMINGTON DE 198...</td>\n",
       "      <td>145.48</td>\n",
       "    </tr>\n",
       "    <tr>\n",
       "      <th>2</th>\n",
       "      <td>Imir 2005 CERVANTES CT NEWARK DE 19702-4401 Un...</td>\n",
       "      <td>1064.44</td>\n",
       "    </tr>\n",
       "    <tr>\n",
       "      <th>3</th>\n",
       "      <td>Imir 33 WENARK DR APT 12 NEWARK DE 19713-1442 ...</td>\n",
       "      <td>1268.42</td>\n",
       "    </tr>\n",
       "    <tr>\n",
       "      <th>4</th>\n",
       "      <td>Imir Ransom 1141 Creekside Dr Wilmington DE 19...</td>\n",
       "      <td>1456.69</td>\n",
       "    </tr>\n",
       "    <tr>\n",
       "      <th>5</th>\n",
       "      <td>Imir Ransom 2 Indepence Hall Newark Delaware 1...</td>\n",
       "      <td>26.80</td>\n",
       "    </tr>\n",
       "    <tr>\n",
       "      <th>6</th>\n",
       "      <td>Imir Ransom 2005 CERVANTES CT NEWARK DE 19702-...</td>\n",
       "      <td>214.74</td>\n",
       "    </tr>\n",
       "    <tr>\n",
       "      <th>7</th>\n",
       "      <td>Imir Ransom 83 PIKE CREEK RD APT 1B NEWARK DE ...</td>\n",
       "      <td>396.13</td>\n",
       "    </tr>\n",
       "    <tr>\n",
       "      <th>8</th>\n",
       "      <td>Jeffrey Mullen 203 ATLANTIC AVE WILMINGTON DE ...</td>\n",
       "      <td>179.00</td>\n",
       "    </tr>\n",
       "    <tr>\n",
       "      <th>9</th>\n",
       "      <td>Sadie Graham 203 ATLANTIC AVE WILMINGTON DE 19...</td>\n",
       "      <td>33.99</td>\n",
       "    </tr>\n",
       "    <tr>\n",
       "      <th>10</th>\n",
       "      <td>Stephanie Pullins 2626 N BANCROFT ST PHILADELP...</td>\n",
       "      <td>556.62</td>\n",
       "    </tr>\n",
       "    <tr>\n",
       "      <th>11</th>\n",
       "      <td>Stephanie Pullins 3007 N STILLMAN ST PHILADELP...</td>\n",
       "      <td>11189.07</td>\n",
       "    </tr>\n",
       "    <tr>\n",
       "      <th>12</th>\n",
       "      <td>Teyonna Pullins 3007 N STILLMAN ST PHILADELPHI...</td>\n",
       "      <td>32.73</td>\n",
       "    </tr>\n",
       "  </tbody>\n",
       "</table>\n",
       "</div>"
      ],
      "text/plain": [
       "                                     Shipping Address  Shipment Item Subtotal\n",
       "0   Ahmad Benefield 3007 N STILLMAN ST PHILADELPHI...                   65.64\n",
       "1   Imir 1140 CREEKSIDE DR APT 1 WILMINGTON DE 198...                  145.48\n",
       "2   Imir 2005 CERVANTES CT NEWARK DE 19702-4401 Un...                 1064.44\n",
       "3   Imir 33 WENARK DR APT 12 NEWARK DE 19713-1442 ...                 1268.42\n",
       "4   Imir Ransom 1141 Creekside Dr Wilmington DE 19...                 1456.69\n",
       "5   Imir Ransom 2 Indepence Hall Newark Delaware 1...                   26.80\n",
       "6   Imir Ransom 2005 CERVANTES CT NEWARK DE 19702-...                  214.74\n",
       "7   Imir Ransom 83 PIKE CREEK RD APT 1B NEWARK DE ...                  396.13\n",
       "8   Jeffrey Mullen 203 ATLANTIC AVE WILMINGTON DE ...                  179.00\n",
       "9   Sadie Graham 203 ATLANTIC AVE WILMINGTON DE 19...                   33.99\n",
       "10  Stephanie Pullins 2626 N BANCROFT ST PHILADELP...                  556.62\n",
       "11  Stephanie Pullins 3007 N STILLMAN ST PHILADELP...                11189.07\n",
       "12  Teyonna Pullins 3007 N STILLMAN ST PHILADELPHI...                   32.73"
      ]
     },
     "execution_count": 27,
     "metadata": {},
     "output_type": "execute_result"
    }
   ],
   "source": [
    "s = df.groupby(['Shipping Address'])['Shipment Item Subtotal'].sum().reset_index()\n",
    "s"
   ]
  },
  {
   "cell_type": "code",
   "execution_count": 28,
   "id": "6f6ac30a-5f7f-4fb6-b604-86ba6ea0ac81",
   "metadata": {
    "tags": []
   },
   "outputs": [
    {
     "data": {
      "text/html": [
       "<div>\n",
       "<style scoped>\n",
       "    .dataframe tbody tr th:only-of-type {\n",
       "        vertical-align: middle;\n",
       "    }\n",
       "\n",
       "    .dataframe tbody tr th {\n",
       "        vertical-align: top;\n",
       "    }\n",
       "\n",
       "    .dataframe thead th {\n",
       "        text-align: right;\n",
       "    }\n",
       "</style>\n",
       "<table border=\"1\" class=\"dataframe\">\n",
       "  <thead>\n",
       "    <tr style=\"text-align: right;\">\n",
       "      <th></th>\n",
       "      <th>Shipping Address</th>\n",
       "      <th>Total Owed</th>\n",
       "    </tr>\n",
       "  </thead>\n",
       "  <tbody>\n",
       "    <tr>\n",
       "      <th>0</th>\n",
       "      <td>Ahmad Benefield 3007 N STILLMAN ST PHILADELPHI...</td>\n",
       "      <td>65.98</td>\n",
       "    </tr>\n",
       "    <tr>\n",
       "      <th>1</th>\n",
       "      <td>Imir 1140 CREEKSIDE DR APT 1 WILMINGTON DE 198...</td>\n",
       "      <td>145.48</td>\n",
       "    </tr>\n",
       "    <tr>\n",
       "      <th>2</th>\n",
       "      <td>Imir 2005 CERVANTES CT NEWARK DE 19702-4401 Un...</td>\n",
       "      <td>646.81</td>\n",
       "    </tr>\n",
       "    <tr>\n",
       "      <th>3</th>\n",
       "      <td>Imir 33 WENARK DR APT 12 NEWARK DE 19713-1442 ...</td>\n",
       "      <td>1142.67</td>\n",
       "    </tr>\n",
       "    <tr>\n",
       "      <th>4</th>\n",
       "      <td>Imir Ransom 1141 Creekside Dr Wilmington DE 19...</td>\n",
       "      <td>1366.06</td>\n",
       "    </tr>\n",
       "    <tr>\n",
       "      <th>5</th>\n",
       "      <td>Imir Ransom 2 Indepence Hall Newark Delaware 1...</td>\n",
       "      <td>50.57</td>\n",
       "    </tr>\n",
       "    <tr>\n",
       "      <th>6</th>\n",
       "      <td>Imir Ransom 2005 CERVANTES CT NEWARK DE 19702-...</td>\n",
       "      <td>221.71</td>\n",
       "    </tr>\n",
       "    <tr>\n",
       "      <th>7</th>\n",
       "      <td>Imir Ransom 83 PIKE CREEK RD APT 1B NEWARK DE ...</td>\n",
       "      <td>381.13</td>\n",
       "    </tr>\n",
       "    <tr>\n",
       "      <th>8</th>\n",
       "      <td>Jeffrey Mullen 203 ATLANTIC AVE WILMINGTON DE ...</td>\n",
       "      <td>173.63</td>\n",
       "    </tr>\n",
       "    <tr>\n",
       "      <th>9</th>\n",
       "      <td>Sadie Graham 203 ATLANTIC AVE WILMINGTON DE 19...</td>\n",
       "      <td>39.98</td>\n",
       "    </tr>\n",
       "    <tr>\n",
       "      <th>10</th>\n",
       "      <td>Stephanie Pullins 2626 N BANCROFT ST PHILADELP...</td>\n",
       "      <td>590.02</td>\n",
       "    </tr>\n",
       "    <tr>\n",
       "      <th>11</th>\n",
       "      <td>Stephanie Pullins 3007 N STILLMAN ST PHILADELP...</td>\n",
       "      <td>7345.93</td>\n",
       "    </tr>\n",
       "    <tr>\n",
       "      <th>12</th>\n",
       "      <td>Teyonna Pullins 3007 N STILLMAN ST PHILADELPHI...</td>\n",
       "      <td>23.05</td>\n",
       "    </tr>\n",
       "  </tbody>\n",
       "</table>\n",
       "</div>"
      ],
      "text/plain": [
       "                                     Shipping Address  Total Owed\n",
       "0   Ahmad Benefield 3007 N STILLMAN ST PHILADELPHI...       65.98\n",
       "1   Imir 1140 CREEKSIDE DR APT 1 WILMINGTON DE 198...      145.48\n",
       "2   Imir 2005 CERVANTES CT NEWARK DE 19702-4401 Un...      646.81\n",
       "3   Imir 33 WENARK DR APT 12 NEWARK DE 19713-1442 ...     1142.67\n",
       "4   Imir Ransom 1141 Creekside Dr Wilmington DE 19...     1366.06\n",
       "5   Imir Ransom 2 Indepence Hall Newark Delaware 1...       50.57\n",
       "6   Imir Ransom 2005 CERVANTES CT NEWARK DE 19702-...      221.71\n",
       "7   Imir Ransom 83 PIKE CREEK RD APT 1B NEWARK DE ...      381.13\n",
       "8   Jeffrey Mullen 203 ATLANTIC AVE WILMINGTON DE ...      173.63\n",
       "9   Sadie Graham 203 ATLANTIC AVE WILMINGTON DE 19...       39.98\n",
       "10  Stephanie Pullins 2626 N BANCROFT ST PHILADELP...      590.02\n",
       "11  Stephanie Pullins 3007 N STILLMAN ST PHILADELP...     7345.93\n",
       "12  Teyonna Pullins 3007 N STILLMAN ST PHILADELPHI...       23.05"
      ]
     },
     "execution_count": 28,
     "metadata": {},
     "output_type": "execute_result"
    }
   ],
   "source": [
    "s = df.groupby(['Shipping Address'])['Total Owed'].sum().reset_index()\n",
    "s"
   ]
  },
  {
   "cell_type": "markdown",
   "id": "2ea2d4d4-cc76-4818-a8f3-ed1871c5fa0f",
   "metadata": {
    "tags": []
   },
   "source": [
    "Need to make a column with the addresses reflecting the names of those associated with them"
   ]
  },
  {
   "cell_type": "code",
   "execution_count": 34,
   "id": "4baed246-0983-40ac-9e52-5ea93f6a0b9a",
   "metadata": {},
   "outputs": [],
   "source": [
    "# Creating a function that will be later used to implement a name based on the address in the DataFrame\n",
    "def get_name(name):\n",
    "    if name == 'Stephanie Pullins 3007 N STILLMAN ST PHILADELPHIA PA 19132-1306 United States' or name == 'Stephanie Pullins 2626 N BANCROFT ST PHILADELPHIA PA 19132-3933 United States':\n",
    "        return \"Stephanie\"\n",
    "    elif name == 'Ahmad Benefield 3007 N STILLMAN ST PHILADELPHIA PA 19132-1306 United States':\n",
    "        return \"Ahmad\"\n",
    "    elif name == 'Teyonna Pullins 3007 N STILLMAN ST PHILADELPHIA PA 19132-1306 United States':\n",
    "        return \"Teyonna\"\n",
    "    elif name == 'Sadie Graham 203 ATLANTIC AVE WILMINGTON DE 19804-1432 United States':\n",
    "        return \"Sadie\"\n",
    "    elif name == 'Jeffrey Mullen 203 ATLANTIC AVE WILMINGTON DE 19804-1432 United States':\n",
    "        return \"Jeffrey\"\n",
    "    elif name == 'Imir Ransom 1141 Creekside Dr Wilmington DE 19804 United States' or name == 'Imir 1140 CREEKSIDE DR APT 1 WILMINGTON DE 19804-3931 United States' or name == 'Imir Ransom 2005 CERVANTES CT NEWARK DE 19702-4401 United States' or name == 'Imir 2005 CERVANTES CT NEWARK DE 19702-4401 United States' or name == 'Imir 33 WENARK DR APT 12 NEWARK DE 19713-1442 United States' or name == 'Imir Ransom 83 PIKE CREEK RD APT 1B NEWARK DE 19711-6819 United States' or name == 'Imir Ransom 2 Indepence Hall Newark Delaware 19711 United States':\n",
    "        return \"Imir\"\n",
    "    "
   ]
  },
  {
   "cell_type": "code",
   "execution_count": 35,
   "id": "d5981ba9-94d7-4399-aa73-47efcc3dd348",
   "metadata": {
    "tags": []
   },
   "outputs": [],
   "source": [
    "# Applying this function to the age column using the apply() method and assigning the result to a new coumn called name\n",
    "df['Name'] = df['Shipping Address'].apply(get_name)"
   ]
  },
  {
   "cell_type": "code",
   "execution_count": 38,
   "id": "d46f4539-ec25-4210-a0d6-b2aa77476e61",
   "metadata": {
    "tags": []
   },
   "outputs": [
    {
     "data": {
      "text/plain": [
       "array(['Imir', 'Stephanie', 'Ahmad', 'Teyonna', 'Sadie', 'Jeffrey'],\n",
       "      dtype=object)"
      ]
     },
     "execution_count": 38,
     "metadata": {},
     "output_type": "execute_result"
    }
   ],
   "source": [
    "# Getting the unique names from the DataFrame\n",
    "df['Name'].unique()"
   ]
  },
  {
   "cell_type": "markdown",
   "id": "60719f84-6e64-4aa2-acbd-5b104c8fe01e",
   "metadata": {},
   "source": [
    "### Who spent the most money?\n",
    "After getting the `Name` of those that made purchases on the account using the `Shipping Address` column,\n",
    "I find the sum of the `Total Owed` (the total amount of purchases they made) and group them together\n",
    "to see who made the most purchases since the beginning of the account"
   ]
  },
  {
   "cell_type": "code",
   "execution_count": 43,
   "id": "09443497-1d65-4909-8e49-b2c377efc465",
   "metadata": {
    "tags": []
   },
   "outputs": [
    {
     "data": {
      "text/html": [
       "<div>\n",
       "<style scoped>\n",
       "    .dataframe tbody tr th:only-of-type {\n",
       "        vertical-align: middle;\n",
       "    }\n",
       "\n",
       "    .dataframe tbody tr th {\n",
       "        vertical-align: top;\n",
       "    }\n",
       "\n",
       "    .dataframe thead th {\n",
       "        text-align: right;\n",
       "    }\n",
       "</style>\n",
       "<table border=\"1\" class=\"dataframe\">\n",
       "  <thead>\n",
       "    <tr style=\"text-align: right;\">\n",
       "      <th></th>\n",
       "      <th>Name</th>\n",
       "      <th>Total Owed</th>\n",
       "    </tr>\n",
       "  </thead>\n",
       "  <tbody>\n",
       "    <tr>\n",
       "      <th>0</th>\n",
       "      <td>Ahmad</td>\n",
       "      <td>65.98</td>\n",
       "    </tr>\n",
       "    <tr>\n",
       "      <th>1</th>\n",
       "      <td>Imir</td>\n",
       "      <td>3954.43</td>\n",
       "    </tr>\n",
       "    <tr>\n",
       "      <th>2</th>\n",
       "      <td>Jeffrey</td>\n",
       "      <td>173.63</td>\n",
       "    </tr>\n",
       "    <tr>\n",
       "      <th>3</th>\n",
       "      <td>Sadie</td>\n",
       "      <td>39.98</td>\n",
       "    </tr>\n",
       "    <tr>\n",
       "      <th>4</th>\n",
       "      <td>Stephanie</td>\n",
       "      <td>7935.95</td>\n",
       "    </tr>\n",
       "    <tr>\n",
       "      <th>5</th>\n",
       "      <td>Teyonna</td>\n",
       "      <td>23.05</td>\n",
       "    </tr>\n",
       "  </tbody>\n",
       "</table>\n",
       "</div>"
      ],
      "text/plain": [
       "        Name  Total Owed\n",
       "0      Ahmad       65.98\n",
       "1       Imir     3954.43\n",
       "2    Jeffrey      173.63\n",
       "3      Sadie       39.98\n",
       "4  Stephanie     7935.95\n",
       "5    Teyonna       23.05"
      ]
     },
     "execution_count": 43,
     "metadata": {},
     "output_type": "execute_result"
    }
   ],
   "source": [
    "df.groupby(['Name'])['Total Owed'].sum().reset_index()"
   ]
  },
  {
   "cell_type": "code",
   "execution_count": null,
   "id": "bc13cd86-8450-4164-aa84-7999171aede7",
   "metadata": {},
   "outputs": [],
   "source": []
  },
  {
   "cell_type": "code",
   "execution_count": null,
   "id": "d2c91a5a-1531-4adb-b51d-ffaf3526ea43",
   "metadata": {},
   "outputs": [],
   "source": []
  }
 ],
 "metadata": {
  "kernelspec": {
   "display_name": "Python 3 (ipykernel)",
   "language": "python",
   "name": "python3"
  },
  "language_info": {
   "codemirror_mode": {
    "name": "ipython",
    "version": 3
   },
   "file_extension": ".py",
   "mimetype": "text/x-python",
   "name": "python",
   "nbconvert_exporter": "python",
   "pygments_lexer": "ipython3",
   "version": "3.11.5"
  }
 },
 "nbformat": 4,
 "nbformat_minor": 5
}
