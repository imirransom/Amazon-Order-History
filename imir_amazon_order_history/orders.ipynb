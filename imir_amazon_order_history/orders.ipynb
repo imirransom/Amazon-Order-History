{
 "cells": [
  {
   "cell_type": "markdown",
   "id": "b69d1468-f21d-4757-add1-f05592d76853",
   "metadata": {},
   "source": [
    "### Import all mondules that will be used"
   ]
  },
  {
   "cell_type": "code",
   "execution_count": 22,
   "id": "d87ef658-daeb-4b8b-bc2e-4c88840a1b0c",
   "metadata": {
    "tags": []
   },
   "outputs": [],
   "source": [
    "from tabulate import tabulate\n",
    "import pandas as pd\n",
    "import matplotlib.pyplot as plt"
   ]
  },
  {
   "cell_type": "code",
   "execution_count": 23,
   "id": "eb5db27c-803a-43b3-85f4-e2287ccb442d",
   "metadata": {
    "tags": []
   },
   "outputs": [],
   "source": [
    "def tab(frame, format):\n",
    "    return tabulate(frame, headers='keys', tablefmt=format)"
   ]
  },
  {
   "cell_type": "code",
   "execution_count": 24,
   "id": "7935f754-4e5c-4c25-8109-f8e25e5f4446",
   "metadata": {
    "tags": []
   },
   "outputs": [],
   "source": [
    "# Making the csv file readable\n",
    "df = pd.read_csv('orderHistory.csv')"
   ]
  },
  {
   "cell_type": "code",
   "execution_count": 25,
   "id": "0f87e410-e5c8-4284-b2bb-d424bad6a22e",
   "metadata": {
    "tags": []
   },
   "outputs": [
    {
     "name": "stdout",
     "output_type": "stream",
     "text": [
      "<class 'pandas.core.frame.DataFrame'>\n",
      "RangeIndex: 687 entries, 0 to 686\n",
      "Data columns (total 27 columns):\n",
      " #   Column                          Non-Null Count  Dtype  \n",
      "---  ------                          --------------  -----  \n",
      " 0   Website                         687 non-null    object \n",
      " 1   Order ID                        687 non-null    object \n",
      " 2   Order Date                      687 non-null    object \n",
      " 3   Purchase Order Number           687 non-null    object \n",
      " 4   Currency                        687 non-null    object \n",
      " 5   Unit Price                      687 non-null    float64\n",
      " 6   Unit Price Tax                  687 non-null    float64\n",
      " 7   Shipping Charge                 687 non-null    float64\n",
      " 8   Total Discounts                 687 non-null    object \n",
      " 9   Total Owed                      687 non-null    float64\n",
      " 10  Shipment Item Subtotal          687 non-null    object \n",
      " 11  Shipment Item Subtotal Tax      687 non-null    object \n",
      " 12  ASIN                            687 non-null    object \n",
      " 13  Product Condition               687 non-null    object \n",
      " 14  Quantity                        687 non-null    int64  \n",
      " 15  Payment Instrument Type         687 non-null    object \n",
      " 16  Order Status                    687 non-null    object \n",
      " 17  Shipment Status                 687 non-null    object \n",
      " 18  Ship Date                       687 non-null    object \n",
      " 19  Shipping Option                 687 non-null    object \n",
      " 20  Shipping Address                687 non-null    object \n",
      " 21  Billing Address                 687 non-null    object \n",
      " 22  Carrier Name & Tracking Number  687 non-null    object \n",
      " 23  Product Name                    687 non-null    object \n",
      " 24  Gift Message                    687 non-null    object \n",
      " 25  Gift Sender Name                687 non-null    object \n",
      " 26  Gift Recipient Contact Details  687 non-null    object \n",
      "dtypes: float64(4), int64(1), object(22)\n",
      "memory usage: 145.0+ KB\n"
     ]
    }
   ],
   "source": [
    "#Filling missing calues with 0\n",
    "df.info()"
   ]
  },
  {
   "cell_type": "code",
   "execution_count": 26,
   "id": "30fb9fe0-23d8-46dd-83b2-573a18d6d635",
   "metadata": {
    "tags": []
   },
   "outputs": [],
   "source": [
    "#Filling missing calues with 0\n",
    "df = df.fillna(0)"
   ]
  },
  {
   "cell_type": "code",
   "execution_count": 9,
   "id": "1bb5c4b3-ed60-4af8-8309-0e9bbfe5ee45",
   "metadata": {},
   "outputs": [],
   "source": [
    "# Removing non-numeric characters and converting them to floats\n",
    "df[\"Shipment Item Subtotal\"] = pd.to_numeric(df[\"Shipment Item Subtotal\"].str.replace('[^\\d.]', '', regex=True), errors='coerce')"
   ]
  },
  {
   "cell_type": "code",
   "execution_count": 10,
   "id": "f0a2b158-aab4-4d68-a041-6338f2089585",
   "metadata": {
    "tags": []
   },
   "outputs": [
    {
     "data": {
      "text/plain": [
       "array(['Imir Ransom 1141 Creekside Dr Wilmington DE 19804 United States',\n",
       "       'Stephanie Pullins 3007 N STILLMAN ST PHILADELPHIA PA 19132-1306 United States',\n",
       "       'Ahmad Benefield 3007 N STILLMAN ST PHILADELPHIA PA 19132-1306 United States',\n",
       "       'Teyonna Pullins 3007 N STILLMAN ST PHILADELPHIA PA 19132-1306 United States',\n",
       "       'Imir 1140 CREEKSIDE DR APT 1 WILMINGTON DE 19804-3931 United States',\n",
       "       'Imir Ransom 2005 CERVANTES CT NEWARK DE 19702-4401 United States',\n",
       "       'Stephanie Pullins 2626 N BANCROFT ST PHILADELPHIA PA 19132-3933 United States',\n",
       "       'Imir 2005 CERVANTES CT NEWARK DE 19702-4401 United States',\n",
       "       'Sadie Graham 203 ATLANTIC AVE WILMINGTON DE 19804-1432 United States',\n",
       "       'Jeffrey Mullen 203 ATLANTIC AVE WILMINGTON DE 19804-1432 United States',\n",
       "       'Imir 33 WENARK DR APT 12 NEWARK DE 19713-1442 United States',\n",
       "       'Imir Ransom 83 PIKE CREEK RD APT 1B NEWARK DE 19711-6819 United States',\n",
       "       'Imir Ransom 2 Indepence Hall Newark Delaware 19711 United States'],\n",
       "      dtype=object)"
      ]
     },
     "execution_count": 10,
     "metadata": {},
     "output_type": "execute_result"
    }
   ],
   "source": [
    "# getting all the addresses used by using the unique method so there are no repeats\n",
    "addresses = df[\"Shipping Address\"].unique()\n",
    "addresses"
   ]
  },
  {
   "cell_type": "code",
   "execution_count": 11,
   "id": "643a1da6-6430-4119-8188-d936b726609d",
   "metadata": {},
   "outputs": [
    {
     "data": {
      "text/plain": [
       "'Stephanie Pullins 3007 N STILLMAN ST PHILADELPHIA PA 19132-1306 United States'"
      ]
     },
     "execution_count": 11,
     "metadata": {},
     "output_type": "execute_result"
    }
   ],
   "source": [
    "steph1 = addresses[1]\n",
    "steph2 = addresses[6] \n",
    "steph1"
   ]
  },
  {
   "cell_type": "code",
   "execution_count": 12,
   "id": "96a2e77e-d213-4f5b-b256-e669a88b6358",
   "metadata": {
    "tags": []
   },
   "outputs": [
    {
     "data": {
      "text/plain": [
       "'Stephanie Pullins 2626 N BANCROFT ST PHILADELPHIA PA 19132-3933 United States'"
      ]
     },
     "execution_count": 12,
     "metadata": {},
     "output_type": "execute_result"
    }
   ],
   "source": [
    "steph2"
   ]
  },
  {
   "cell_type": "code",
   "execution_count": 27,
   "id": "ae0e6034-e25d-4fcc-810f-97936455cae5",
   "metadata": {
    "tags": []
   },
   "outputs": [
    {
     "data": {
      "text/html": [
       "<div>\n",
       "<style scoped>\n",
       "    .dataframe tbody tr th:only-of-type {\n",
       "        vertical-align: middle;\n",
       "    }\n",
       "\n",
       "    .dataframe tbody tr th {\n",
       "        vertical-align: top;\n",
       "    }\n",
       "\n",
       "    .dataframe thead th {\n",
       "        text-align: right;\n",
       "    }\n",
       "</style>\n",
       "<table border=\"1\" class=\"dataframe\">\n",
       "  <thead>\n",
       "    <tr style=\"text-align: right;\">\n",
       "      <th></th>\n",
       "      <th>Shipping Address</th>\n",
       "      <th>Shipment Item Subtotal</th>\n",
       "    </tr>\n",
       "  </thead>\n",
       "  <tbody>\n",
       "    <tr>\n",
       "      <th>0</th>\n",
       "      <td>Ahmad Benefield 3007 N STILLMAN ST PHILADELPHI...</td>\n",
       "      <td>5.6959.95</td>\n",
       "    </tr>\n",
       "    <tr>\n",
       "      <th>1</th>\n",
       "      <td>Imir 1140 CREEKSIDE DR APT 1 WILMINGTON DE 198...</td>\n",
       "      <td>145.48</td>\n",
       "    </tr>\n",
       "    <tr>\n",
       "      <th>2</th>\n",
       "      <td>Imir 2005 CERVANTES CT NEWARK DE 19702-4401 Un...</td>\n",
       "      <td>24.959.9521.99484845.1545.1544.9311.944.9344.9...</td>\n",
       "    </tr>\n",
       "    <tr>\n",
       "      <th>3</th>\n",
       "      <td>Imir 33 WENARK DR APT 12 NEWARK DE 19713-1442 ...</td>\n",
       "      <td>9.999.499.4921.9821.9815.5534.2619.9934.2612.9...</td>\n",
       "    </tr>\n",
       "    <tr>\n",
       "      <th>4</th>\n",
       "      <td>Imir Ransom 1141 Creekside Dr Wilmington DE 19...</td>\n",
       "      <td>129.9918.9916.0422.9949.999.7325.9910.9999.951...</td>\n",
       "    </tr>\n",
       "    <tr>\n",
       "      <th>5</th>\n",
       "      <td>Imir Ransom 2 Indepence Hall Newark Delaware 1...</td>\n",
       "      <td>7.512.96.4</td>\n",
       "    </tr>\n",
       "    <tr>\n",
       "      <th>6</th>\n",
       "      <td>Imir Ransom 2005 CERVANTES CT NEWARK DE 19702-...</td>\n",
       "      <td>9522.978.8210.9918.9842.9914.99</td>\n",
       "    </tr>\n",
       "    <tr>\n",
       "      <th>7</th>\n",
       "      <td>Imir Ransom 83 PIKE CREEK RD APT 1B NEWARK DE ...</td>\n",
       "      <td>299.9910.996.4510.9221.9945.79</td>\n",
       "    </tr>\n",
       "    <tr>\n",
       "      <th>8</th>\n",
       "      <td>Jeffrey Mullen 203 ATLANTIC AVE WILMINGTON DE ...</td>\n",
       "      <td>179</td>\n",
       "    </tr>\n",
       "    <tr>\n",
       "      <th>9</th>\n",
       "      <td>Sadie Graham 203 ATLANTIC AVE WILMINGTON DE 19...</td>\n",
       "      <td>33.99</td>\n",
       "    </tr>\n",
       "    <tr>\n",
       "      <th>10</th>\n",
       "      <td>Stephanie Pullins 2626 N BANCROFT ST PHILADELP...</td>\n",
       "      <td>9.8625.789.9944.9915.4713.9916.9946.198.4513.9...</td>\n",
       "    </tr>\n",
       "    <tr>\n",
       "      <th>11</th>\n",
       "      <td>Stephanie Pullins 3007 N STILLMAN ST PHILADELP...</td>\n",
       "      <td>17.8917.8955.9755.972.1636.9517.115.5710.9915....</td>\n",
       "    </tr>\n",
       "    <tr>\n",
       "      <th>12</th>\n",
       "      <td>Teyonna Pullins 3007 N STILLMAN ST PHILADELPHI...</td>\n",
       "      <td>10.985.395.3810.98</td>\n",
       "    </tr>\n",
       "  </tbody>\n",
       "</table>\n",
       "</div>"
      ],
      "text/plain": [
       "                                     Shipping Address  \\\n",
       "0   Ahmad Benefield 3007 N STILLMAN ST PHILADELPHI...   \n",
       "1   Imir 1140 CREEKSIDE DR APT 1 WILMINGTON DE 198...   \n",
       "2   Imir 2005 CERVANTES CT NEWARK DE 19702-4401 Un...   \n",
       "3   Imir 33 WENARK DR APT 12 NEWARK DE 19713-1442 ...   \n",
       "4   Imir Ransom 1141 Creekside Dr Wilmington DE 19...   \n",
       "5   Imir Ransom 2 Indepence Hall Newark Delaware 1...   \n",
       "6   Imir Ransom 2005 CERVANTES CT NEWARK DE 19702-...   \n",
       "7   Imir Ransom 83 PIKE CREEK RD APT 1B NEWARK DE ...   \n",
       "8   Jeffrey Mullen 203 ATLANTIC AVE WILMINGTON DE ...   \n",
       "9   Sadie Graham 203 ATLANTIC AVE WILMINGTON DE 19...   \n",
       "10  Stephanie Pullins 2626 N BANCROFT ST PHILADELP...   \n",
       "11  Stephanie Pullins 3007 N STILLMAN ST PHILADELP...   \n",
       "12  Teyonna Pullins 3007 N STILLMAN ST PHILADELPHI...   \n",
       "\n",
       "                               Shipment Item Subtotal  \n",
       "0                                           5.6959.95  \n",
       "1                                              145.48  \n",
       "2   24.959.9521.99484845.1545.1544.9311.944.9344.9...  \n",
       "3   9.999.499.4921.9821.9815.5534.2619.9934.2612.9...  \n",
       "4   129.9918.9916.0422.9949.999.7325.9910.9999.951...  \n",
       "5                                          7.512.96.4  \n",
       "6                     9522.978.8210.9918.9842.9914.99  \n",
       "7                      299.9910.996.4510.9221.9945.79  \n",
       "8                                                 179  \n",
       "9                                               33.99  \n",
       "10  9.8625.789.9944.9915.4713.9916.9946.198.4513.9...  \n",
       "11  17.8917.8955.9755.972.1636.9517.115.5710.9915....  \n",
       "12                                 10.985.395.3810.98  "
      ]
     },
     "execution_count": 27,
     "metadata": {},
     "output_type": "execute_result"
    }
   ],
   "source": [
    "s = df.groupby(['Shipping Address'])['Shipment Item Subtotal'].sum().reset_index()\n",
    "s"
   ]
  },
  {
   "cell_type": "code",
   "execution_count": 28,
   "id": "6f6ac30a-5f7f-4fb6-b604-86ba6ea0ac81",
   "metadata": {
    "tags": []
   },
   "outputs": [
    {
     "data": {
      "text/html": [
       "<div>\n",
       "<style scoped>\n",
       "    .dataframe tbody tr th:only-of-type {\n",
       "        vertical-align: middle;\n",
       "    }\n",
       "\n",
       "    .dataframe tbody tr th {\n",
       "        vertical-align: top;\n",
       "    }\n",
       "\n",
       "    .dataframe thead th {\n",
       "        text-align: right;\n",
       "    }\n",
       "</style>\n",
       "<table border=\"1\" class=\"dataframe\">\n",
       "  <thead>\n",
       "    <tr style=\"text-align: right;\">\n",
       "      <th></th>\n",
       "      <th>Shipping Address</th>\n",
       "      <th>Total Owed</th>\n",
       "    </tr>\n",
       "  </thead>\n",
       "  <tbody>\n",
       "    <tr>\n",
       "      <th>0</th>\n",
       "      <td>Ahmad Benefield 3007 N STILLMAN ST PHILADELPHI...</td>\n",
       "      <td>65.98</td>\n",
       "    </tr>\n",
       "    <tr>\n",
       "      <th>1</th>\n",
       "      <td>Imir 1140 CREEKSIDE DR APT 1 WILMINGTON DE 198...</td>\n",
       "      <td>145.48</td>\n",
       "    </tr>\n",
       "    <tr>\n",
       "      <th>2</th>\n",
       "      <td>Imir 2005 CERVANTES CT NEWARK DE 19702-4401 Un...</td>\n",
       "      <td>646.81</td>\n",
       "    </tr>\n",
       "    <tr>\n",
       "      <th>3</th>\n",
       "      <td>Imir 33 WENARK DR APT 12 NEWARK DE 19713-1442 ...</td>\n",
       "      <td>1142.67</td>\n",
       "    </tr>\n",
       "    <tr>\n",
       "      <th>4</th>\n",
       "      <td>Imir Ransom 1141 Creekside Dr Wilmington DE 19...</td>\n",
       "      <td>1366.06</td>\n",
       "    </tr>\n",
       "    <tr>\n",
       "      <th>5</th>\n",
       "      <td>Imir Ransom 2 Indepence Hall Newark Delaware 1...</td>\n",
       "      <td>50.57</td>\n",
       "    </tr>\n",
       "    <tr>\n",
       "      <th>6</th>\n",
       "      <td>Imir Ransom 2005 CERVANTES CT NEWARK DE 19702-...</td>\n",
       "      <td>221.71</td>\n",
       "    </tr>\n",
       "    <tr>\n",
       "      <th>7</th>\n",
       "      <td>Imir Ransom 83 PIKE CREEK RD APT 1B NEWARK DE ...</td>\n",
       "      <td>381.13</td>\n",
       "    </tr>\n",
       "    <tr>\n",
       "      <th>8</th>\n",
       "      <td>Jeffrey Mullen 203 ATLANTIC AVE WILMINGTON DE ...</td>\n",
       "      <td>173.63</td>\n",
       "    </tr>\n",
       "    <tr>\n",
       "      <th>9</th>\n",
       "      <td>Sadie Graham 203 ATLANTIC AVE WILMINGTON DE 19...</td>\n",
       "      <td>39.98</td>\n",
       "    </tr>\n",
       "    <tr>\n",
       "      <th>10</th>\n",
       "      <td>Stephanie Pullins 2626 N BANCROFT ST PHILADELP...</td>\n",
       "      <td>590.02</td>\n",
       "    </tr>\n",
       "    <tr>\n",
       "      <th>11</th>\n",
       "      <td>Stephanie Pullins 3007 N STILLMAN ST PHILADELP...</td>\n",
       "      <td>7345.93</td>\n",
       "    </tr>\n",
       "    <tr>\n",
       "      <th>12</th>\n",
       "      <td>Teyonna Pullins 3007 N STILLMAN ST PHILADELPHI...</td>\n",
       "      <td>23.05</td>\n",
       "    </tr>\n",
       "  </tbody>\n",
       "</table>\n",
       "</div>"
      ],
      "text/plain": [
       "                                     Shipping Address  Total Owed\n",
       "0   Ahmad Benefield 3007 N STILLMAN ST PHILADELPHI...       65.98\n",
       "1   Imir 1140 CREEKSIDE DR APT 1 WILMINGTON DE 198...      145.48\n",
       "2   Imir 2005 CERVANTES CT NEWARK DE 19702-4401 Un...      646.81\n",
       "3   Imir 33 WENARK DR APT 12 NEWARK DE 19713-1442 ...     1142.67\n",
       "4   Imir Ransom 1141 Creekside Dr Wilmington DE 19...     1366.06\n",
       "5   Imir Ransom 2 Indepence Hall Newark Delaware 1...       50.57\n",
       "6   Imir Ransom 2005 CERVANTES CT NEWARK DE 19702-...      221.71\n",
       "7   Imir Ransom 83 PIKE CREEK RD APT 1B NEWARK DE ...      381.13\n",
       "8   Jeffrey Mullen 203 ATLANTIC AVE WILMINGTON DE ...      173.63\n",
       "9   Sadie Graham 203 ATLANTIC AVE WILMINGTON DE 19...       39.98\n",
       "10  Stephanie Pullins 2626 N BANCROFT ST PHILADELP...      590.02\n",
       "11  Stephanie Pullins 3007 N STILLMAN ST PHILADELP...     7345.93\n",
       "12  Teyonna Pullins 3007 N STILLMAN ST PHILADELPHI...       23.05"
      ]
     },
     "execution_count": 28,
     "metadata": {},
     "output_type": "execute_result"
    }
   ],
   "source": [
    "s = df.groupby(['Shipping Address'])['Total Owed'].sum().reset_index()\n",
    "s"
   ]
  },
  {
   "cell_type": "markdown",
   "id": "2ea2d4d4-cc76-4818-a8f3-ed1871c5fa0f",
   "metadata": {
    "tags": []
   },
   "source": [
    "Need to make a column with the addresses reflecting the names of those associated with them"
   ]
  },
  {
   "cell_type": "code",
   "execution_count": 64,
   "id": "4baed246-0983-40ac-9e52-5ea93f6a0b9a",
   "metadata": {},
   "outputs": [],
   "source": [
    "# Creating a function that will be later used to implement a name based on the address in the DataFrame\n",
    "def get_name(name):\n",
    "    if name == 'Stephanie Pullins 3007 N STILLMAN ST PHILADELPHIA PA 19132-1306 United States'\\\n",
    "    or name == 'Stephanie Pullins 2626 N BANCROFT ST PHILADELPHIA PA 19132-3933 United States':\n",
    "        return \"Stephanie\"\n",
    "    elif name == 'Ahmad Benefield 3007 N STILLMAN ST PHILADELPHIA PA 19132-1306 United States':\n",
    "        return \"Ahmad\"\n",
    "    elif name == 'Teyonna Pullins 3007 N STILLMAN ST PHILADELPHIA PA 19132-1306 United States':\n",
    "        return \"Teyonna\"\n",
    "    elif name == 'Sadie Graham 203 ATLANTIC AVE WILMINGTON DE 19804-1432 United States':\n",
    "        return \"Sadie\"\n",
    "    elif name == 'Jeffrey Mullen 203 ATLANTIC AVE WILMINGTON DE 19804-1432 United States':\n",
    "        return \"Jeffrey\"\n",
    "    elif name == 'Imir Ransom 1141 Creekside Dr Wilmington DE 19804 United States'\\\n",
    "    or name == 'Imir 1140 CREEKSIDE DR APT 1 WILMINGTON DE 19804-3931 United States'\\\n",
    "    or name == 'Imir Ransom 2005 CERVANTES CT NEWARK DE 19702-4401 United States'\\\n",
    "    or name == 'Imir 2005 CERVANTES CT NEWARK DE 19702-4401 United States'\\\n",
    "    or name == 'Imir 33 WENARK DR APT 12 NEWARK DE 19713-1442 United States'\\\n",
    "    or name == 'Imir Ransom 83 PIKE CREEK RD APT 1B NEWARK DE 19711-6819 United States'\\\n",
    "    or name == 'Imir Ransom 2 Indepence Hall Newark Delaware 19711 United States':\n",
    "        return \"Imir\"\n",
    "    "
   ]
  },
  {
   "cell_type": "code",
   "execution_count": 65,
   "id": "d5981ba9-94d7-4399-aa73-47efcc3dd348",
   "metadata": {
    "tags": []
   },
   "outputs": [
    {
     "name": "stdout",
     "output_type": "stream",
     "text": [
      "<class 'pandas.core.frame.DataFrame'>\n",
      "RangeIndex: 687 entries, 0 to 686\n",
      "Data columns (total 29 columns):\n",
      " #   Column                          Non-Null Count  Dtype  \n",
      "---  ------                          --------------  -----  \n",
      " 0   Website                         687 non-null    object \n",
      " 1   Order ID                        687 non-null    object \n",
      " 2   Order Date                      687 non-null    object \n",
      " 3   Purchase Order Number           687 non-null    object \n",
      " 4   Currency                        687 non-null    object \n",
      " 5   Unit Price                      687 non-null    float64\n",
      " 6   Unit Price Tax                  687 non-null    float64\n",
      " 7   Shipping Charge                 687 non-null    float64\n",
      " 8   Total Discounts                 687 non-null    object \n",
      " 9   Total Owed                      687 non-null    float64\n",
      " 10  Shipment Item Subtotal          687 non-null    object \n",
      " 11  Shipment Item Subtotal Tax      687 non-null    object \n",
      " 12  ASIN                            687 non-null    object \n",
      " 13  Product Condition               687 non-null    object \n",
      " 14  Quantity                        687 non-null    int64  \n",
      " 15  Payment Instrument Type         687 non-null    object \n",
      " 16  Order Status                    687 non-null    object \n",
      " 17  Shipment Status                 687 non-null    object \n",
      " 18  Ship Date                       687 non-null    object \n",
      " 19  Shipping Option                 687 non-null    object \n",
      " 20  Shipping Address                687 non-null    object \n",
      " 21  Billing Address                 687 non-null    object \n",
      " 22  Carrier Name & Tracking Number  687 non-null    object \n",
      " 23  Product Name                    687 non-null    object \n",
      " 24  Gift Message                    687 non-null    object \n",
      " 25  Gift Sender Name                687 non-null    object \n",
      " 26  Gift Recipient Contact Details  687 non-null    object \n",
      " 27  Name                            687 non-null    object \n",
      " 28  Month                           456 non-null    object \n",
      "dtypes: float64(4), int64(1), object(24)\n",
      "memory usage: 155.8+ KB\n"
     ]
    }
   ],
   "source": [
    "# Applying this function to the age column using the apply() method and assigning the result to a new coumn called name\n",
    "df['Name'] = df['Shipping Address'].apply(get_name)\n",
    "# New info for the new column added\n",
    "df.info()"
   ]
  },
  {
   "cell_type": "code",
   "execution_count": 66,
   "id": "d46f4539-ec25-4210-a0d6-b2aa77476e61",
   "metadata": {
    "tags": []
   },
   "outputs": [
    {
     "data": {
      "text/plain": [
       "array(['Imir', 'Stephanie', 'Ahmad', 'Teyonna', 'Sadie', 'Jeffrey'],\n",
       "      dtype=object)"
      ]
     },
     "execution_count": 66,
     "metadata": {},
     "output_type": "execute_result"
    }
   ],
   "source": [
    "# Getting the unique names from the DataFrame\n",
    "df['Name'].unique()"
   ]
  },
  {
   "cell_type": "markdown",
   "id": "60719f84-6e64-4aa2-acbd-5b104c8fe01e",
   "metadata": {},
   "source": [
    "## Who spent the most money?\n",
    "### DataFrame\n",
    "After getting the `Name` of those that made purchases on the account using the `Shipping Address` column,\n",
    "I find the sum of the `Total Owed` (the total amount of purchases they made) and group them together\n",
    "to see who made the most purchases since the beginning of the account"
   ]
  },
  {
   "cell_type": "code",
   "execution_count": 67,
   "id": "09443497-1d65-4909-8e49-b2c377efc465",
   "metadata": {
    "tags": []
   },
   "outputs": [],
   "source": [
    "#df.sort_values('Name')"
   ]
  },
  {
   "cell_type": "code",
   "execution_count": 71,
   "id": "ac3b3d2c-e997-4168-88fc-2e43354356d6",
   "metadata": {
    "tags": []
   },
   "outputs": [
    {
     "data": {
      "text/html": [
       "<div>\n",
       "<style scoped>\n",
       "    .dataframe tbody tr th:only-of-type {\n",
       "        vertical-align: middle;\n",
       "    }\n",
       "\n",
       "    .dataframe tbody tr th {\n",
       "        vertical-align: top;\n",
       "    }\n",
       "\n",
       "    .dataframe thead th {\n",
       "        text-align: right;\n",
       "    }\n",
       "</style>\n",
       "<table border=\"1\" class=\"dataframe\">\n",
       "  <thead>\n",
       "    <tr style=\"text-align: right;\">\n",
       "      <th></th>\n",
       "      <th>Name</th>\n",
       "      <th>Total Owed</th>\n",
       "    </tr>\n",
       "  </thead>\n",
       "  <tbody>\n",
       "    <tr>\n",
       "      <th>0</th>\n",
       "      <td>Ahmad</td>\n",
       "      <td>65.98</td>\n",
       "    </tr>\n",
       "    <tr>\n",
       "      <th>1</th>\n",
       "      <td>Imir</td>\n",
       "      <td>3954.43</td>\n",
       "    </tr>\n",
       "    <tr>\n",
       "      <th>2</th>\n",
       "      <td>Jeffrey</td>\n",
       "      <td>173.63</td>\n",
       "    </tr>\n",
       "    <tr>\n",
       "      <th>3</th>\n",
       "      <td>Sadie</td>\n",
       "      <td>39.98</td>\n",
       "    </tr>\n",
       "    <tr>\n",
       "      <th>4</th>\n",
       "      <td>Stephanie</td>\n",
       "      <td>7935.95</td>\n",
       "    </tr>\n",
       "    <tr>\n",
       "      <th>5</th>\n",
       "      <td>Teyonna</td>\n",
       "      <td>23.05</td>\n",
       "    </tr>\n",
       "  </tbody>\n",
       "</table>\n",
       "</div>"
      ],
      "text/plain": [
       "        Name  Total Owed\n",
       "0      Ahmad       65.98\n",
       "1       Imir     3954.43\n",
       "2    Jeffrey      173.63\n",
       "3      Sadie       39.98\n",
       "4  Stephanie     7935.95\n",
       "5    Teyonna       23.05"
      ]
     },
     "execution_count": 71,
     "metadata": {},
     "output_type": "execute_result"
    }
   ],
   "source": [
    "overall_sum = df.groupby(['Name'])['Total Owed'].sum().reset_index()\n",
    "overall_sum"
   ]
  },
  {
   "cell_type": "markdown",
   "id": "7cad4684-7362-4a88-a76e-16bf3dbc0632",
   "metadata": {
    "tags": []
   },
   "source": [
    "## Who spent the most money\n",
    "### Plotted\n",
    "The y axis is the total amount spent. I used my variable `overall_sum` to represent the total amont spent so that it was the same\n",
    "size as my x axis. I also made the x axis the same size using the method `unique` since the sum of from the `Total Owed` only gives the\n",
    "unique column names since they were grouped together in using the measurement `sum`. <break>\n",
    "    \n",
    "Though, the next issue I had was `df['Name'].unique()` was putting the names in the incorrect order, for the `overall_sum` DataFrame has\n",
    "the names in alphabetical order. So, I casted the `sorted` function over it so that `Name` column would return in alphabetical order,\n",
    "matching it up with it's respective data."
   ]
  },
  {
   "cell_type": "code",
   "execution_count": 69,
   "id": "bc13cd86-8450-4164-aa84-7999171aede7",
   "metadata": {
    "tags": []
   },
   "outputs": [
    {
     "data": {
      "image/png": "[encoded data removed]",
      "text/plain": [
       "<Figure size 640x480 with 1 Axes>"
      ]
     },
     "metadata": {},
     "output_type": "display_data"
    }
   ],
   "source": [
    "x = sorted(df['Name'].unique())\n",
    "y = overall_sum['Total Owed']\n",
    "plt.style.use('dark_background')\n",
    "fig, ax = plt.subplots()\n",
    "ax.scatter(x, y, c=y, cmap=plt.cm.Blues, s=10)\n",
    "ax.set_title('who spent the most money'.title(), fontsize=21)\n",
    "ax.set_xlabel(\"name of the spenders\".title(), fontsize=14)\n",
    "ax.set_ylabel('total spent'.title(), fontsize=14)\n",
    "\n",
    "\n",
    "plt.plot(x, y)\n",
    "plt.show()"
   ]
  },
  {
   "cell_type": "code",
   "execution_count": 85,
   "id": "1bbc2653-ecf2-4cca-b729-3f7fe638d450",
   "metadata": {
    "tags": []
   },
   "outputs": [],
   "source": [
    "# This function will be used to get the months of each purchase using the order date column\n",
    "def get_month(month):\n",
    "    if month >= \"2023-01-01\" and month < \"2023-02-01\":\n",
    "        return 'January'\n",
    "    elif month >= \"2023-02-01\" and month < \"2023-03-01\":\n",
    "        return 'February'\n",
    "    elif month >= \"2023-03-01\" and month < \"2023-04-01\":\n",
    "        return 'March'\n",
    "    elif month >= \"2023-04-01\" and month < \"2023-05-01\":\n",
    "        return 'April'\n",
    "    elif month >= \"2023-05-01\" and month < \"2023-06-01\":\n",
    "        return 'May'\n",
    "    elif month >= \"2023-06-01\" and month < \"2023-07-01\":\n",
    "        return 'June'\n",
    "    elif month >= \"2023-07-01\" and month < \"2023-08-01\":\n",
    "        return 'July'\n",
    "    elif month >= \"2023-08-01\" and month < \"2023-09-01\":\n",
    "        return 'August'\n",
    "    elif month >= \"2023-09-01\" and month < \"2023-10-01\":\n",
    "        return 'September'\n",
    "    elif month >= \"2023-10-01\" and month < \"2023-11-01\":\n",
    "        return 'October'\n",
    "    elif month >= \"2023-11-01\" and month < \"2023-12-01\":\n",
    "        return 'November'\n",
    "    elif month >= \"2023-12-01\" and month < \"2024-01-01\":\n",
    "        return 'December'\n",
    "    "
   ]
  },
  {
   "cell_type": "code",
   "execution_count": 86,
   "id": "8af9b4d0-fa08-4d4b-973f-49f95a6ee76d",
   "metadata": {
    "tags": []
   },
   "outputs": [],
   "source": [
    "df['Month'] = df['Order Date'].apply(get_month)"
   ]
  },
  {
   "cell_type": "markdown",
   "id": "74a739ae-d1d6-42db-a0cc-61f59c2e9043",
   "metadata": {
    "tags": []
   },
   "source": [
    "### The amount of orders for each month in 2023"
   ]
  },
  {
   "cell_type": "code",
   "execution_count": 87,
   "id": "21f3c505-eaf0-46e0-b96b-8500ae25290c",
   "metadata": {
    "tags": []
   },
   "outputs": [
    {
     "data": {
      "text/html": [
       "<div>\n",
       "<style scoped>\n",
       "    .dataframe tbody tr th:only-of-type {\n",
       "        vertical-align: middle;\n",
       "    }\n",
       "\n",
       "    .dataframe tbody tr th {\n",
       "        vertical-align: top;\n",
       "    }\n",
       "\n",
       "    .dataframe thead th {\n",
       "        text-align: right;\n",
       "    }\n",
       "</style>\n",
       "<table border=\"1\" class=\"dataframe\">\n",
       "  <thead>\n",
       "    <tr style=\"text-align: right;\">\n",
       "      <th></th>\n",
       "      <th>Month</th>\n",
       "      <th>Order Date</th>\n",
       "    </tr>\n",
       "  </thead>\n",
       "  <tbody>\n",
       "    <tr>\n",
       "      <th>0</th>\n",
       "      <td>April</td>\n",
       "      <td>45</td>\n",
       "    </tr>\n",
       "    <tr>\n",
       "      <th>1</th>\n",
       "      <td>February</td>\n",
       "      <td>95</td>\n",
       "    </tr>\n",
       "    <tr>\n",
       "      <th>2</th>\n",
       "      <td>January</td>\n",
       "      <td>102</td>\n",
       "    </tr>\n",
       "    <tr>\n",
       "      <th>3</th>\n",
       "      <td>July</td>\n",
       "      <td>58</td>\n",
       "    </tr>\n",
       "    <tr>\n",
       "      <th>4</th>\n",
       "      <td>June</td>\n",
       "      <td>69</td>\n",
       "    </tr>\n",
       "    <tr>\n",
       "      <th>5</th>\n",
       "      <td>March</td>\n",
       "      <td>25</td>\n",
       "    </tr>\n",
       "    <tr>\n",
       "      <th>6</th>\n",
       "      <td>May</td>\n",
       "      <td>62</td>\n",
       "    </tr>\n",
       "  </tbody>\n",
       "</table>\n",
       "</div>"
      ],
      "text/plain": [
       "      Month  Order Date\n",
       "0     April          45\n",
       "1  February          95\n",
       "2   January         102\n",
       "3      July          58\n",
       "4      June          69\n",
       "5     March          25\n",
       "6       May          62"
      ]
     },
     "execution_count": 87,
     "metadata": {},
     "output_type": "execute_result"
    }
   ],
   "source": [
    "dates_and_months = df.groupby(['Month'])['Order Date'].size().reset_index()\n",
    "dates_and_months"
   ]
  },
  {
   "cell_type": "markdown",
   "id": "8d3c208c-2d1d-4095-89ea-5f8900ba5238",
   "metadata": {
    "tags": []
   },
   "source": [
    "### The amount of orders for each month in 2023 by each person"
   ]
  },
  {
   "cell_type": "code",
   "execution_count": 88,
   "id": "19e6830c-3d12-4c9d-9de7-bbaa95ece645",
   "metadata": {
    "tags": []
   },
   "outputs": [
    {
     "data": {
      "text/html": [
       "<div>\n",
       "<style scoped>\n",
       "    .dataframe tbody tr th:only-of-type {\n",
       "        vertical-align: middle;\n",
       "    }\n",
       "\n",
       "    .dataframe tbody tr th {\n",
       "        vertical-align: top;\n",
       "    }\n",
       "\n",
       "    .dataframe thead th {\n",
       "        text-align: right;\n",
       "    }\n",
       "</style>\n",
       "<table border=\"1\" class=\"dataframe\">\n",
       "  <thead>\n",
       "    <tr style=\"text-align: right;\">\n",
       "      <th></th>\n",
       "      <th>Month</th>\n",
       "      <th>Name</th>\n",
       "      <th>Order Date</th>\n",
       "    </tr>\n",
       "  </thead>\n",
       "  <tbody>\n",
       "    <tr>\n",
       "      <th>0</th>\n",
       "      <td>April</td>\n",
       "      <td>Imir</td>\n",
       "      <td>4</td>\n",
       "    </tr>\n",
       "    <tr>\n",
       "      <th>1</th>\n",
       "      <td>April</td>\n",
       "      <td>Stephanie</td>\n",
       "      <td>41</td>\n",
       "    </tr>\n",
       "    <tr>\n",
       "      <th>2</th>\n",
       "      <td>February</td>\n",
       "      <td>Ahmad</td>\n",
       "      <td>1</td>\n",
       "    </tr>\n",
       "    <tr>\n",
       "      <th>3</th>\n",
       "      <td>February</td>\n",
       "      <td>Imir</td>\n",
       "      <td>2</td>\n",
       "    </tr>\n",
       "    <tr>\n",
       "      <th>4</th>\n",
       "      <td>February</td>\n",
       "      <td>Stephanie</td>\n",
       "      <td>92</td>\n",
       "    </tr>\n",
       "    <tr>\n",
       "      <th>5</th>\n",
       "      <td>January</td>\n",
       "      <td>Imir</td>\n",
       "      <td>7</td>\n",
       "    </tr>\n",
       "    <tr>\n",
       "      <th>6</th>\n",
       "      <td>January</td>\n",
       "      <td>Stephanie</td>\n",
       "      <td>95</td>\n",
       "    </tr>\n",
       "    <tr>\n",
       "      <th>7</th>\n",
       "      <td>July</td>\n",
       "      <td>Imir</td>\n",
       "      <td>4</td>\n",
       "    </tr>\n",
       "    <tr>\n",
       "      <th>8</th>\n",
       "      <td>July</td>\n",
       "      <td>Stephanie</td>\n",
       "      <td>54</td>\n",
       "    </tr>\n",
       "    <tr>\n",
       "      <th>9</th>\n",
       "      <td>June</td>\n",
       "      <td>Ahmad</td>\n",
       "      <td>1</td>\n",
       "    </tr>\n",
       "    <tr>\n",
       "      <th>10</th>\n",
       "      <td>June</td>\n",
       "      <td>Imir</td>\n",
       "      <td>1</td>\n",
       "    </tr>\n",
       "    <tr>\n",
       "      <th>11</th>\n",
       "      <td>June</td>\n",
       "      <td>Stephanie</td>\n",
       "      <td>67</td>\n",
       "    </tr>\n",
       "    <tr>\n",
       "      <th>12</th>\n",
       "      <td>March</td>\n",
       "      <td>Imir</td>\n",
       "      <td>1</td>\n",
       "    </tr>\n",
       "    <tr>\n",
       "      <th>13</th>\n",
       "      <td>March</td>\n",
       "      <td>Stephanie</td>\n",
       "      <td>24</td>\n",
       "    </tr>\n",
       "    <tr>\n",
       "      <th>14</th>\n",
       "      <td>May</td>\n",
       "      <td>Imir</td>\n",
       "      <td>8</td>\n",
       "    </tr>\n",
       "    <tr>\n",
       "      <th>15</th>\n",
       "      <td>May</td>\n",
       "      <td>Stephanie</td>\n",
       "      <td>50</td>\n",
       "    </tr>\n",
       "    <tr>\n",
       "      <th>16</th>\n",
       "      <td>May</td>\n",
       "      <td>Teyonna</td>\n",
       "      <td>4</td>\n",
       "    </tr>\n",
       "  </tbody>\n",
       "</table>\n",
       "</div>"
      ],
      "text/plain": [
       "       Month       Name  Order Date\n",
       "0      April       Imir           4\n",
       "1      April  Stephanie          41\n",
       "2   February      Ahmad           1\n",
       "3   February       Imir           2\n",
       "4   February  Stephanie          92\n",
       "5    January       Imir           7\n",
       "6    January  Stephanie          95\n",
       "7       July       Imir           4\n",
       "8       July  Stephanie          54\n",
       "9       June      Ahmad           1\n",
       "10      June       Imir           1\n",
       "11      June  Stephanie          67\n",
       "12     March       Imir           1\n",
       "13     March  Stephanie          24\n",
       "14       May       Imir           8\n",
       "15       May  Stephanie          50\n",
       "16       May    Teyonna           4"
      ]
     },
     "execution_count": 88,
     "metadata": {},
     "output_type": "execute_result"
    }
   ],
   "source": [
    "# Using the measurement size to get the amount of orders for the month of each person\n",
    "dates_and_months = df.groupby(['Month', 'Name'])['Order Date'].size().reset_index()\n",
    "dates_and_months"
   ]
  },
  {
   "cell_type": "code",
   "execution_count": 89,
   "id": "2222a27e-aba6-49cc-81a7-ec80b5bbe7b2",
   "metadata": {
    "tags": []
   },
   "outputs": [
    {
     "data": {
      "text/html": [
       "<div>\n",
       "<style scoped>\n",
       "    .dataframe tbody tr th:only-of-type {\n",
       "        vertical-align: middle;\n",
       "    }\n",
       "\n",
       "    .dataframe tbody tr th {\n",
       "        vertical-align: top;\n",
       "    }\n",
       "\n",
       "    .dataframe thead th {\n",
       "        text-align: right;\n",
       "    }\n",
       "</style>\n",
       "<table border=\"1\" class=\"dataframe\">\n",
       "  <thead>\n",
       "    <tr style=\"text-align: right;\">\n",
       "      <th>Name</th>\n",
       "      <th>Ahmad</th>\n",
       "      <th>Imir</th>\n",
       "      <th>Stephanie</th>\n",
       "      <th>Teyonna</th>\n",
       "    </tr>\n",
       "    <tr>\n",
       "      <th>Month</th>\n",
       "      <th></th>\n",
       "      <th></th>\n",
       "      <th></th>\n",
       "      <th></th>\n",
       "    </tr>\n",
       "  </thead>\n",
       "  <tbody>\n",
       "    <tr>\n",
       "      <th>April</th>\n",
       "      <td>0.0</td>\n",
       "      <td>4.0</td>\n",
       "      <td>41.0</td>\n",
       "      <td>0.0</td>\n",
       "    </tr>\n",
       "    <tr>\n",
       "      <th>February</th>\n",
       "      <td>1.0</td>\n",
       "      <td>2.0</td>\n",
       "      <td>92.0</td>\n",
       "      <td>0.0</td>\n",
       "    </tr>\n",
       "    <tr>\n",
       "      <th>January</th>\n",
       "      <td>0.0</td>\n",
       "      <td>7.0</td>\n",
       "      <td>95.0</td>\n",
       "      <td>0.0</td>\n",
       "    </tr>\n",
       "    <tr>\n",
       "      <th>July</th>\n",
       "      <td>0.0</td>\n",
       "      <td>4.0</td>\n",
       "      <td>54.0</td>\n",
       "      <td>0.0</td>\n",
       "    </tr>\n",
       "    <tr>\n",
       "      <th>June</th>\n",
       "      <td>1.0</td>\n",
       "      <td>1.0</td>\n",
       "      <td>67.0</td>\n",
       "      <td>0.0</td>\n",
       "    </tr>\n",
       "    <tr>\n",
       "      <th>March</th>\n",
       "      <td>0.0</td>\n",
       "      <td>1.0</td>\n",
       "      <td>24.0</td>\n",
       "      <td>0.0</td>\n",
       "    </tr>\n",
       "    <tr>\n",
       "      <th>May</th>\n",
       "      <td>0.0</td>\n",
       "      <td>8.0</td>\n",
       "      <td>50.0</td>\n",
       "      <td>4.0</td>\n",
       "    </tr>\n",
       "  </tbody>\n",
       "</table>\n",
       "</div>"
      ],
      "text/plain": [
       "Name      Ahmad  Imir  Stephanie  Teyonna\n",
       "Month                                    \n",
       "April       0.0   4.0       41.0      0.0\n",
       "February    1.0   2.0       92.0      0.0\n",
       "January     0.0   7.0       95.0      0.0\n",
       "July        0.0   4.0       54.0      0.0\n",
       "June        1.0   1.0       67.0      0.0\n",
       "March       0.0   1.0       24.0      0.0\n",
       "May         0.0   8.0       50.0      4.0"
      ]
     },
     "execution_count": 89,
     "metadata": {},
     "output_type": "execute_result"
    }
   ],
   "source": [
    "pivoted_df = dates_and_months.pivot(\n",
    "    columns='Name',\n",
    "    index='Month',\n",
    "    values='Order Date'\n",
    ")\n",
    "pivoted_df = pivoted_df.fillna(0)\n",
    "pivoted_df"
   ]
  },
  {
   "cell_type": "code",
   "execution_count": 90,
   "id": "d2c91a5a-1531-4adb-b51d-ffaf3526ea43",
   "metadata": {
    "tags": []
   },
   "outputs": [
    {
     "name": "stdout",
     "output_type": "stream",
     "text": [
      "<class 'pandas.core.frame.DataFrame'>\n",
      "Index: 456 entries, 0 to 455\n",
      "Data columns (total 29 columns):\n",
      " #   Column                          Non-Null Count  Dtype  \n",
      "---  ------                          --------------  -----  \n",
      " 0   Website                         456 non-null    object \n",
      " 1   Order ID                        456 non-null    object \n",
      " 2   Order Date                      456 non-null    object \n",
      " 3   Purchase Order Number           456 non-null    object \n",
      " 4   Currency                        456 non-null    object \n",
      " 5   Unit Price                      456 non-null    float64\n",
      " 6   Unit Price Tax                  456 non-null    float64\n",
      " 7   Shipping Charge                 456 non-null    float64\n",
      " 8   Total Discounts                 456 non-null    object \n",
      " 9   Total Owed                      456 non-null    float64\n",
      " 10  Shipment Item Subtotal          456 non-null    object \n",
      " 11  Shipment Item Subtotal Tax      456 non-null    object \n",
      " 12  ASIN                            456 non-null    object \n",
      " 13  Product Condition               456 non-null    object \n",
      " 14  Quantity                        456 non-null    int64  \n",
      " 15  Payment Instrument Type         456 non-null    object \n",
      " 16  Order Status                    456 non-null    object \n",
      " 17  Shipment Status                 456 non-null    object \n",
      " 18  Ship Date                       456 non-null    object \n",
      " 19  Shipping Option                 456 non-null    object \n",
      " 20  Shipping Address                456 non-null    object \n",
      " 21  Billing Address                 456 non-null    object \n",
      " 22  Carrier Name & Tracking Number  456 non-null    object \n",
      " 23  Product Name                    456 non-null    object \n",
      " 24  Gift Message                    456 non-null    object \n",
      " 25  Gift Sender Name                456 non-null    object \n",
      " 26  Gift Recipient Contact Details  456 non-null    object \n",
      " 27  Name                            456 non-null    object \n",
      " 28  Month                           456 non-null    object \n",
      "dtypes: float64(4), int64(1), object(24)\n",
      "memory usage: 106.9+ KB\n"
     ]
    }
   ],
   "source": [
    "items_for_2023 = df[df[\"Order Date\"] >= \"2023-01-01\"]\n",
    "items_for_2023.info()"
   ]
  },
  {
   "cell_type": "code",
   "execution_count": 91,
   "id": "f651cfff-3058-4e31-86de-fa3c18d9892d",
   "metadata": {
    "tags": []
   },
   "outputs": [
    {
     "data": {
      "text/html": [
       "<div>\n",
       "<style scoped>\n",
       "    .dataframe tbody tr th:only-of-type {\n",
       "        vertical-align: middle;\n",
       "    }\n",
       "\n",
       "    .dataframe tbody tr th {\n",
       "        vertical-align: top;\n",
       "    }\n",
       "\n",
       "    .dataframe thead th {\n",
       "        text-align: right;\n",
       "    }\n",
       "</style>\n",
       "<table border=\"1\" class=\"dataframe\">\n",
       "  <thead>\n",
       "    <tr style=\"text-align: right;\">\n",
       "      <th></th>\n",
       "      <th>Name</th>\n",
       "      <th>Total Owed</th>\n",
       "    </tr>\n",
       "  </thead>\n",
       "  <tbody>\n",
       "    <tr>\n",
       "      <th>0</th>\n",
       "      <td>Ahmad</td>\n",
       "      <td>65.98</td>\n",
       "    </tr>\n",
       "    <tr>\n",
       "      <th>1</th>\n",
       "      <td>Imir</td>\n",
       "      <td>710.09</td>\n",
       "    </tr>\n",
       "    <tr>\n",
       "      <th>2</th>\n",
       "      <td>Stephanie</td>\n",
       "      <td>6039.42</td>\n",
       "    </tr>\n",
       "    <tr>\n",
       "      <th>3</th>\n",
       "      <td>Teyonna</td>\n",
       "      <td>23.05</td>\n",
       "    </tr>\n",
       "  </tbody>\n",
       "</table>\n",
       "</div>"
      ],
      "text/plain": [
       "        Name  Total Owed\n",
       "0      Ahmad       65.98\n",
       "1       Imir      710.09\n",
       "2  Stephanie     6039.42\n",
       "3    Teyonna       23.05"
      ]
     },
     "execution_count": 91,
     "metadata": {},
     "output_type": "execute_result"
    }
   ],
   "source": [
    "current_overall_sum = items_for_2023.groupby(['Name'])['Total Owed'].sum().reset_index()\n",
    "current_overall_sum"
   ]
  },
  {
   "cell_type": "code",
   "execution_count": 97,
   "id": "6aed2517-eea5-486e-982b-4cf615d74f10",
   "metadata": {},
   "outputs": [
    {
     "data": {
      "text/plain": [
       "Text(0, 0.5, 'Total Spent (USD)')"
      ]
     },
     "execution_count": 97,
     "metadata": {},
     "output_type": "execute_result"
    },
    {
     "data": {
      "image/png": "[encoded data removed]",
      "text/plain": [
       "<Figure size 640x480 with 1 Axes>"
      ]
     },
     "metadata": {},
     "output_type": "display_data"
    }
   ],
   "source": [
    "x = sorted(items_for_2023['Name'].unique())\n",
    "y = current_overall_sum['Total Owed']\n",
    "plt.style.use('dark_background')\n",
    "fig, ax = plt.subplots()\n",
    "ax.scatter(x, y, c=y, cmap=plt.cm.Blues, s=10)\n",
    "ax.set_title('money spent on amazon (2023)'.title(), fontsize=21)\n",
    "ax.set_xlabel(\"name of the spenders\".title(), fontsize=14)\n",
    "ax.set_ylabel('total spent'.title() + ' (USD)', fontsize=14)"
   ]
  },
  {
   "cell_type": "code",
   "execution_count": 98,
   "id": "334432c1-ed4b-4663-9703-2b4648d6a314",
   "metadata": {},
   "outputs": [
    {
     "data": {
      "image/png": "[encoded data removed]",
      "text/plain": [
       "<Figure size 640x480 with 1 Axes>"
      ]
     },
     "metadata": {},
     "output_type": "display_data"
    }
   ],
   "source": [
    "plt.plot(x, y)\n",
    "plt.show()"
   ]
  },
  {
   "cell_type": "code",
   "execution_count": null,
   "id": "fea52e42-4004-48f1-a566-34b0a281afa8",
   "metadata": {},
   "outputs": [],
   "source": []
  }
 ],
 "metadata": {
  "kernelspec": {
   "display_name": "Python 3 (ipykernel)",
   "language": "python",
   "name": "python3"
  },
  "language_info": {
   "codemirror_mode": {
    "name": "ipython",
    "version": 3
   },
   "file_extension": ".py",
   "mimetype": "text/x-python",
   "name": "python",
   "nbconvert_exporter": "python",
   "pygments_lexer": "ipython3",
   "version": "3.11.5"
  }
 },
 "nbformat": 4,
 "nbformat_minor": 5
}
