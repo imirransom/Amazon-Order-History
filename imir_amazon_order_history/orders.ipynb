{
 "cells": [
  {
   "cell_type": "markdown",
   "id": "b69d1468-f21d-4757-add1-f05592d76853",
   "metadata": {},
   "source": [
    "### Import all mondules that will be used"
   ]
  },
  {
   "cell_type": "code",
   "execution_count": 3,
   "id": "d87ef658-daeb-4b8b-bc2e-4c88840a1b0c",
   "metadata": {
    "tags": []
   },
   "outputs": [],
   "source": [
    "from tabulate import tabulate\n",
    "import pandas as pd\n",
    "import matplotlib.pyplot as plt"
   ]
  },
  {
   "cell_type": "code",
   "execution_count": 4,
   "id": "eb5db27c-803a-43b3-85f4-e2287ccb442d",
   "metadata": {
    "tags": []
   },
   "outputs": [],
   "source": [
    "# Making the csv file readable\n",
    "df = pd.read_csv('orderHistory.csv')"
   ]
  },
  {
   "cell_type": "code",
   "execution_count": 6,
   "id": "f0a2b158-aab4-4d68-a041-6338f2089585",
   "metadata": {
    "tags": []
   },
   "outputs": [],
   "source": [
    "#Filling missing calues with 0\n",
    "df = df.fillna(0)"
   ]
  },
  {
   "cell_type": "code",
   "execution_count": null,
   "id": "1bb5c4b3-ed60-4af8-8309-0e9bbfe5ee45",
   "metadata": {},
   "outputs": [],
   "source": []
  }
 ],
 "metadata": {
  "kernelspec": {
   "display_name": "Python 3 (ipykernel)",
   "language": "python",
   "name": "python3"
  },
  "language_info": {
   "codemirror_mode": {
    "name": "ipython",
    "version": 3
   },
   "file_extension": ".py",
   "mimetype": "text/x-python",
   "name": "python",
   "nbconvert_exporter": "python",
   "pygments_lexer": "ipython3",
   "version": "3.11.5"
  }
 },
 "nbformat": 4,
 "nbformat_minor": 5
}
